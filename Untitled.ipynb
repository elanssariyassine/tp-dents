{
 "cells": [
  {
   "cell_type": "code",
   "execution_count": 14,
   "id": "8c50e432",
   "metadata": {},
   "outputs": [
    {
     "name": "stdout",
     "output_type": "stream",
     "text": [
      "\n",
      "0: 640x640 3 points, 1007.6ms\n",
      "Speed: 10.0ms preprocess, 1007.6ms inference, 2.0ms postprocess per image at shape (1, 3, 640, 640)\n"
     ]
    },
    {
     "data": {
      "text/plain": [
       "-1"
      ]
     },
     "execution_count": 14,
     "metadata": {},
     "output_type": "execute_result"
    }
   ],
   "source": [
    "from ultralytics import YOLO\n",
    "import cv2\n",
    "\n",
    "model_path = \"best.pt\"\n",
    "image_path = \"est/est/0.jpg\"\n",
    "\n",
    "img = cv2.imread(image_path)\n",
    "\n",
    "model = YOLO(model_path)\n",
    "\n",
    "# Convert the image to RGB\n",
    "img_rgb = cv2.cvtColor(img, cv2.COLOR_BGR2RGB)\n",
    "\n",
    "results = model(img_rgb)\n",
    "\n",
    "keypoints = results[0].keypoints.xy  # Access the xy attribute of the Keypoints object\n",
    "\n",
    "for keypoint_index in range(keypoints.shape[1]):\n",
    "    x, y = int(keypoints[0, keypoint_index, 0]), int(keypoints[0, keypoint_index, 1])\n",
    "    cv2.circle(img, (x, y), 5, (0, 255, 0), -1)\n",
    "    cv2.putText(img, str(keypoint_index), (x + 10, y), cv2.FONT_HERSHEY_SIMPLEX, 0.5, (0, 255, 0), 2)\n",
    "\n",
    "cv2.imshow('img', img)\n",
    "cv2.waitKey(0)\n"
   ]
  },
  {
   "cell_type": "code",
   "execution_count": null,
   "id": "66cdc5e3",
   "metadata": {},
   "outputs": [],
   "source": [
    "pip install CornerNet"
   ]
  },
  {
   "cell_type": "code",
   "execution_count": null,
   "id": "49ce09ba",
   "metadata": {},
   "outputs": [],
   "source": []
  }
 ],
 "metadata": {
  "kernelspec": {
   "display_name": "Python 3 (ipykernel)",
   "language": "python",
   "name": "python3"
  },
  "language_info": {
   "codemirror_mode": {
    "name": "ipython",
    "version": 3
   },
   "file_extension": ".py",
   "mimetype": "text/x-python",
   "name": "python",
   "nbconvert_exporter": "python",
   "pygments_lexer": "ipython3",
   "version": "3.10.9"
  }
 },
 "nbformat": 4,
 "nbformat_minor": 5
}
